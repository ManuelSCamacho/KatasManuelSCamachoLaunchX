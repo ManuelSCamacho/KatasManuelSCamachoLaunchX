{
 "cells": [
  {
   "cell_type": "markdown",
   "metadata": {},
   "source": [
    "## Ejercicio 1 Escribi declaraciones, if, else y elif\n",
    "## Ejercicio 1.1\n",
    "Para este ejercicio, escribirás una lógica condicional que imprima una advertencia si un asteroide se acerca a la Tierra demasiado rápido. La velocidad del asteroide varía dependiendo de lo cerca que esté del sol, y cualquier velocidad superior a 25 kilómetros por segundo (km/s) merece una advertencia.\n",
    "\n",
    "Un asteroide se acerca, y viaja a una velocidad de 49 km/s.\n",
    "* Añadir el código necesario para crear una variable que guarde la velocidad del asteroide.\n",
    "* Escribe una expresión de prueba para calcular si necesita una advertencia.\n",
    "* Agregue las instrucciones que se ejecutarán si la expresión de prueba es true o false."
   ]
  },
  {
   "cell_type": "code",
   "execution_count": 9,
   "metadata": {},
   "outputs": [
    {
     "name": "stdout",
     "output_type": "stream",
     "text": [
      "Todo en orden, sigan en lo suyo.\n"
     ]
    }
   ],
   "source": [
    "vel_asteroide1 = 49\n",
    "if(vel_asteroide>25):\n",
    "    print('¡Asteroide aproximandose, cooooooorrraaaaannn!')\n",
    "else:\n",
    "    print('Todo en orden, sigan en lo suyo.')"
   ]
  },
  {
   "cell_type": "markdown",
   "metadata": {},
   "source": [
    "## Ejercicio 1.2\n",
    "Si un asteroide entra en la atmósfera de la Tierra a una velocidad mayor o igual a 20 km/s, a veces produce un rayo de luz que se puede ver desde la Tierra. Escribe la lógica condicional que usa declaraciones if, else, y elif para alertar a las personas de todo el mundo que deben buscar un asteroide en el cielo. ¡Hay uno que se dirige a la tierra ahora a una velocidad de 19 km/s!\n",
    "* Agrega el código para crear una variable para un asteroide que viaja a 19 km/s\n",
    "* Escribe varias expresiones de prueba para determinar si puedes ver el rayo de luz desde la tierra\n",
    "* Agrega las instrucciones que se ejecutarán si las expresiones de prueba son True o False"
   ]
  },
  {
   "cell_type": "code",
   "execution_count": 14,
   "metadata": {},
   "outputs": [
    {
     "name": "stdout",
     "output_type": "stream",
     "text": [
      "¡Hola mundo, voltea a ver al cielo y busca un asteroide!\n"
     ]
    }
   ],
   "source": [
    "vel_asteoride2 = 19\n",
    "if(vel_asteoride2>20):\n",
    "    print('¡Hola mundo, voltea a ver al cielo y busca un asteroide!')\n",
    "elif(vel_asteoride2 == 20):\n",
    "    print('¡Hola mundo, voltea a ver al cielo y busca un asteroide!')\n",
    "else:\n",
    "    print('Nada aún, no voltees al cielo.')"
   ]
  },
  {
   "cell_type": "markdown",
   "metadata": {},
   "source": [
    "## Ejercicio 2 Uso de operadores and y or\n",
    "\n",
    "* Los asteroides de menos de 25 metros en su dimensión más grande probablemente se quemarán a medida que entren en la atmósfera de la Tierra.\n",
    "\n",
    "* Si una pieza de un asteroide que es más grande que 25 metros pero más pequeña que 1000 metros golpeara la Tierra, causaría mucho daño.\n",
    "\n",
    "También discutimos en el ejercicio anterior que:\n",
    "\n",
    "* La velocidad del asteroide varía en función de lo cerca que esté del sol, y cualquier velocidad superior a 25 kilómetros por segundo (km/s) merece una advertencia.\n",
    "Si un asteroide entra en la atmósfera de la Tierra a una velocidad mayor o igual a 20 km/s, a veces produce un rayo de luz que se puede ver desde la Tierra.\n",
    "\n",
    "Usando toda esta información, escribe un programa que emita la advertencia o información correcta a la gente de la Tierra, según la velocidad y el tamaño de un asteroide. Utiliza instrucciones if, else, y elif, así como los operadores and y or.\n",
    "* Agrega el código para crear nuevas variables para la velocidad y el tamaño del asteroide\n",
    "* Para probar el código, prueba con varias velocidades y tamaños\n",
    "* Escribe varias expresiones de prueba o combinaciones de expresiones de prueba para determinar qué mensaje se debe enviar a Tierra."
   ]
  },
  {
   "cell_type": "code",
   "execution_count": 52,
   "metadata": {},
   "outputs": [
    {
     "name": "stdout",
     "output_type": "stream",
     "text": [
      "Voltea hacia el cielo, se producirá un  rayo de luz\n"
     ]
    }
   ],
   "source": [
    "d_asteoride = 100\n",
    "vel_asteroide3 = 24\n",
    "if(25 < d_asteoride < 1000 and (vel_asteroide3 > 25 or vel_asteroide3 >= 20)):\n",
    "    if(vel_asteroide3>25):\n",
    "        print('Habrá problemas, asteoride puede golpear la tierra...')\n",
    "    elif(vel_asteroide3>=20):\n",
    "        print ('Voltea hacia el cielo, se producirá un  rayo de luz')\n",
    "    else:\n",
    "        print('Todo en orden, sin riesgo.')\n",
    "else:\n",
    "    print('Todo en orden, sin riesgo.')"
   ]
  }
 ],
 "metadata": {
  "interpreter": {
   "hash": "92ddabaea5435af622e059576d60d428c516400970c5921a41a6b3e03fc1cb5e"
  },
  "kernelspec": {
   "display_name": "Python 3.9.10 64-bit",
   "language": "python",
   "name": "python3"
  },
  "language_info": {
   "codemirror_mode": {
    "name": "ipython",
    "version": 3
   },
   "file_extension": ".py",
   "mimetype": "text/x-python",
   "name": "python",
   "nbconvert_exporter": "python",
   "pygments_lexer": "ipython3",
   "version": "3.9.10"
  },
  "orig_nbformat": 4
 },
 "nbformat": 4,
 "nbformat_minor": 2
}
