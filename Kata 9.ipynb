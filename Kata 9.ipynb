{
 "cells": [
  {
   "cell_type": "markdown",
   "metadata": {},
   "source": [
    "\n",
    "## Ejercicio: Uso de funciones en Python\n",
    "* Ejercicio 1: Trabajar con argumentos en funciones\n",
    "\n",
    "Los argumentos requeridos en las funciones se utilizan cuando las funciones necesitan que esos argumentos funcionen correctamente. En este ejercicio, construirás un informe de combustible que requiere información de varias ubicaciones de combustible en todo el cohete.\n",
    "\n",
    "    TIP Dedica unos minutos para tratar de encontrar una solución. Luego desplázate hacia abajo hasta la parte inferior para ver si has logrado compilar el programa de acuerdo con las especificaciones\n",
    "\n",
    "Comienza por crear una función que necesite tres lecturas de combustible y devuelva un informe:\n",
    "\n",
    "* Función para leer 3 tanques de combustible y muestre el promedio\n",
    "\n",
    "Ahora que hemos definido la función de informes, vamos a comprobarlo. Para esta misión, los tanques no están llenos:\n",
    "\n",
    "* Llamamos a la función que genera el reporte print(funcion(tanque1, tanque2, tanque3))\n",
    "\n",
    "En lugar de simplemente crear el informe, la función también está calculando el promedio. Mejora la legibilidad extrayendo el cálculo promedio de la función en una nueva función para que el promedio se pueda hacer de forma independiente:\n",
    "\n",
    "* Función promedio \n",
    "\n",
    "Ahora actualiza la función de informes para llamando a la nueva función del promedio:\n",
    "\n",
    "* Actualiza la función\n",
    "\n",
    "    Recuerda: Lo importante es intentarlo, puedes auxiliarte de internet, libros, etc. El objetivo de una kata es la comprobación de la comprensión de la lección y su aplicación inmediata a la resolución de problemas. Go for it!\n",
    "\n",
    "\n",
    "\n"
   ]
  },
  {
   "cell_type": "code",
   "execution_count": 21,
   "metadata": {},
   "outputs": [
    {
     "name": "stdout",
     "output_type": "stream",
     "text": [
      "El promedio de combustible es:  112.0\n",
      "El tanque #1 contiene:  100\n",
      "El tanque #2 contiene:  160\n",
      "El tanque #3 contiene:  76\n"
     ]
    }
   ],
   "source": [
    "#Función para leer 3 tanques de combustible y muestre el promedio\n",
    "def informes ():\n",
    "    t1 = input('Lectura de tanque #1: ')\n",
    "    t2 = input('Lectura de tanque #2: ')\n",
    "    t3 = input('Lectura de tanque #3: ')\n",
    "    prom = (int(t1)+int(t2)+int(t3)) / 3\n",
    "    print('El promedio de combustible es: ', prom)\n",
    "    print('El tanque #1 contiene: ', t1)\n",
    "    print('El tanque #2 contiene: ', t2)\n",
    "    print('El tanque #3 contiene: ', t3)\n",
    "\n",
    "\n",
    "\n",
    "informes ()\n"
   ]
  },
  {
   "cell_type": "code",
   "execution_count": 6,
   "metadata": {},
   "outputs": [
    {
     "name": "stdout",
     "output_type": "stream",
     "text": [
      "El promedio es:  80.0\n"
     ]
    }
   ],
   "source": [
    "# En lugar de simplemente crear el informe, la función también está calculando el promedio. \n",
    "# Mejora la legibilidad extrayendo el cálculo promedio de la función en una nueva función para que el\n",
    "# promedio se pueda hacer de forma independiente:\n",
    "# Función promedio \n",
    "t1 = input('Lectura de tanque #1: ')\n",
    "t2 = input('Lectura de tanque #2: ')\n",
    "t3 = input('Lectura de tanque #3: ')\n",
    "\n",
    "\n",
    "def promedio (valores):\n",
    "    total = sum (valores)\n",
    "    num_items = len(valores)\n",
    "    return total / num_items\n",
    "\n",
    "\n",
    "print('El promedio es: ',promedio([int (t1),int (t2),int (t3)]))\n",
    "\n",
    "\n",
    "\n"
   ]
  },
  {
   "cell_type": "code",
   "execution_count": 7,
   "metadata": {},
   "outputs": [
    {
     "name": "stdout",
     "output_type": "stream",
     "text": [
      "El promedio de combustible es:  75.0\n",
      "El tanque #1 contiene:  100\n",
      "El tanque #2 contiene:  50\n",
      "El tanque #3 contiene:  75\n"
     ]
    }
   ],
   "source": [
    "#Ahora actualiza la función de informes para llamando a la nueva función del promedio:\n",
    "#Actualiza la función\n",
    "\n",
    "def informes ():\n",
    "    t1 = input('Lectura de tanque #1: ')\n",
    "    t2 = input('Lectura de tanque #2: ')\n",
    "    t3 = input('Lectura de tanque #3: ')\n",
    "    print('El promedio de combustible es: ', promedio([int (t1),int (t2),int (t3)]))\n",
    "    print('El tanque #1 contiene: ', t1)\n",
    "    print('El tanque #2 contiene: ', t2)\n",
    "    print('El tanque #3 contiene: ', t3)\n",
    "\n",
    "def promedio (valores):\n",
    "    total = sum (valores)\n",
    "    num_items = len(valores)\n",
    "    return total / num_items\n",
    "\n",
    "informes ()"
   ]
  },
  {
   "cell_type": "markdown",
   "metadata": {},
   "source": [
    "## Ejercicio 2: Trabajo con argumentos de palabra clave\n",
    "* Ejercicio : Trabajar con argumentos de palabras clave en funciones\n",
    "\n",
    "En este ejercicio, construirás un informe de cohete que requiere varias piezas de información, como el tiempo hasta el destino, el combustible a la izquierda y el nombre del destino. Comienza por crear una función que creará un informe preciso de la misión:\n",
    "\n",
    "* Función con un informe preciso de la misión. Considera hora de prelanzamiento, tiempo de vuelo, destino, tanque externo y tanque interno\n",
    "\n",
    "La función es problemática porque no se puede adaptar para minutos adicionales o tanques adicionales de combustible. Hazlo más flexible permitiendo cualquier número de pasos basados en el tiempo y cualquier número de tanques. En lugar de usar *args y **kwargs, aprovecha el hecho de que puedes usar cualquier nombre que desees. Asegurate que la función sea más legible mediante el uso de nombres de variables que están asociados con las entradas, como *minutes y **fuel_reservoirs:\n",
    "\n",
    "* Escribe tu nueva función de reporte considerando lo anterior\n",
    "\n",
    "Debido a que el combustible que queda en los tanques es específico de cada tanque, actualiza la función para usar el nombre de cada tanque en el informe:\n",
    "\n",
    "* Escribe tu nueva función"
   ]
  },
  {
   "cell_type": "code",
   "execution_count": 9,
   "metadata": {},
   "outputs": [
    {
     "name": "stdout",
     "output_type": "stream",
     "text": [
      "----------Reporte a detalle-------\n",
      "\n",
      "\n",
      "    Mision a: Urano\n",
      "    Tiempo total de viaje: 110 minutos\n",
      "    Total de gasolina disponible: 25900 litros\n",
      "    \n"
     ]
    }
   ],
   "source": [
    "#En este ejercicio, construirás un informe de cohete que requiere varias piezas de información, como el tiempo \n",
    "# hasta el destino, el combustible a la izquierda y el nombre del destino. Comienza por crear una función que \n",
    "# creará un informe preciso de la misión:\n",
    "\n",
    "#Función con un informe preciso de la misión. Considera hora de prelanzamiento, tiempo de vuelo, destino, \n",
    "# tanque externo y tanque interno\n",
    "\n",
    "tiempo_prelanzamiento = input('Introduzca duración del prelanzamiento (minutos): ')\n",
    "tiempo_vuelo = input('Introduzca duración del vuelo (minutos): ')\n",
    "destino = input('Introduzca destino de la misión: ')\n",
    "tanque_ext = input('Introduzca litros de gasolina en tanque principal: ')\n",
    "tanque_int = input('Introduzca litros de gasolina en tanque secundario: ')\n",
    "\n",
    "def reporte(tiempo_prelanzamiento, tiempo_vuelo, destino, tanque_ext, tanque_int):\n",
    "    return f\"\"\"\n",
    "    Mision a: {destino}\n",
    "    Tiempo total de viaje: {tiempo_prelanzamiento + tiempo_vuelo} minutos\n",
    "    Total de gasolina disponible: {tanque_ext + tanque_int} litros\n",
    "    \"\"\"\n",
    "\n",
    "print('----------Reporte a detalle------------\\n')\n",
    "print(reporte(int(tiempo_prelanzamiento), int(tiempo_vuelo), destino, int(tanque_ext), int(tanque_int)))"
   ]
  },
  {
   "cell_type": "code",
   "execution_count": 10,
   "metadata": {},
   "outputs": [
    {
     "name": "stdout",
     "output_type": "stream",
     "text": [
      "---------Reporte a detalle----------\n",
      "\n",
      "\n",
      "    Mision a: Marte\n",
      "    Tiempo total de vuelo: 77 minutos\n",
      "    Total de gasolina disponible: 1370000 litros\n",
      "    \n"
     ]
    }
   ],
   "source": [
    "#La función es problemática porque no se puede adaptar para minutos adicionales o tanques adicionales de combustible. \n",
    "# Hazlo más flexible permitiendo cualquier número de pasos basados en el tiempo y cualquier número de tanques. \n",
    "# En lugar de usar *args y **kwargs, aprovecha el hecho de que puedes usar cualquier nombre que desees. \n",
    "# Asegurate que la función sea más legible mediante el uso de nombres de variables que están asociados con las entradas,\n",
    "#  como *minutes y **fuel_reservoirs:\n",
    "\n",
    "# Escribe tu nueva función de reporte considerando lo anterior.\n",
    "\n",
    "def reporte(destino, *minutos, **reserva_gas):\n",
    "    return f\"\"\"\n",
    "    Mision a: {destino}\n",
    "    Tiempo total de vuelo: {sum(minutos)} minutos\n",
    "    Total de gasolina disponible: {sum(reserva_gas.values())} litros\n",
    "    \"\"\"\n",
    "print('---------Reporte a detalle----------\\n')\n",
    "print(reporte(\"Marte\", 12, 5, 60, tanque_int=470000, tanque_ext=900000))"
   ]
  },
  {
   "cell_type": "code",
   "execution_count": 18,
   "metadata": {},
   "outputs": [
    {
     "name": "stdout",
     "output_type": "stream",
     "text": [
      "---------Reporte a detalle----------\n",
      "\n",
      "\n",
      "    Mision a: Venus\n",
      "    Total tiempo de vuelo: 155 minutos\n",
      "    Total de combustible disponible: 517000 litros\n",
      "    tanque_interno --> 300000 litros disponibles\n",
      "tanque_externo --> 200000 litros disponibles\n",
      "tanque_adicional1 --> 12000 litros disponibles\n",
      "tanque_adicional2 --> 5000 litros disponibles\n",
      "\n"
     ]
    }
   ],
   "source": [
    "# Debido a que el combustible que queda en los tanques es específico de cada tanque, actualiza la función\n",
    "# para usar el nombre de cada tanque en el informe:\n",
    "\n",
    "def reporte(destino, *minutos, **reserva_gas):\n",
    "    reporte2 = f\"\"\"\n",
    "    Mision a: {destino}\n",
    "    Total tiempo de vuelo: {sum(minutos)} minutos\n",
    "    Total de combustible disponible: {sum(reserva_gas.values())} litros\n",
    "    \"\"\"\n",
    "    for nombre_tanque, litros in reserva_gas.items():\n",
    "        reporte2 += f\"{nombre_tanque} --> {litros} litros disponibles\\n\"\n",
    "    return reporte2\n",
    "\n",
    "print('---------Reporte a detalle----------\\n')\n",
    "print(reporte(\"Venus\", 19, 21, 35, 30, 45, 5, tanque_interno=30000, tanque_externo=20000, tanque_adicional1=12000, tanque_adicional2=5000))"
   ]
  }
 ],
 "metadata": {
  "interpreter": {
   "hash": "92ddabaea5435af622e059576d60d428c516400970c5921a41a6b3e03fc1cb5e"
  },
  "kernelspec": {
   "display_name": "Python 3.9.10 64-bit",
   "language": "python",
   "name": "python3"
  },
  "language_info": {
   "codemirror_mode": {
    "name": "ipython",
    "version": 3
   },
   "file_extension": ".py",
   "mimetype": "text/x-python",
   "name": "python",
   "nbconvert_exporter": "python",
   "pygments_lexer": "ipython3",
   "version": "3.9.10"
  },
  "orig_nbformat": 4
 },
 "nbformat": 4,
 "nbformat_minor": 2
}
