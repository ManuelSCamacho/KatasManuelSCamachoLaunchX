{
 "cells": [
  {
   "cell_type": "markdown",
   "metadata": {},
   "source": [
    "\n",
    "## Ejercicio1 - Utilizar operadores aritméticos\n",
    "Operadores aritméticos en Python\n",
    "\n",
    "Python proporciona operadores aritméticos comunes para que puedas realizar operaciones matemáticas en tu código. Estos incluyen las cuatro operaciones principales de suma, resta, multiplicación y división.\n",
    "\n",
    "Exploremos cómo podemos crear un programa que pueda calcular la distancia entre dos planetas. Comenzaremos usando dos distancias de planetas: Tierra (149.597.870 km) y Júpiter (778.547.200 km).\n",
    "\n",
    "    TIP Dedica unos minutos a tratar de encontrar una solución. Luego desplázate hacia abajo hasta la parte inferior para ver si has logrado compilar el programa de acuerdo con las especificaciones.\n",
    "\n",
    "Nota: Quita las comas cuando uses los valores.\n",
    "\n",
    "* Crear variables para almacenar las dos distancias\n",
    "* ¡Asegúrate de quitar las comas!\n",
    "\n",
    "Realizar la operación\n",
    "\n",
    "Con los valores obtenidos, es el momento de añadir el código para realizar la operación. Restarás el primer planeta del segundo para determinar la distancia en kilómetros. A continuación, puedes convertir la distancia del kilómetro en millas multiplicándola por 0.621.\n",
    "\n",
    "* Calcular la distancia entre planetas\n",
    "\n",
    "Prueba tu proyecto\n",
    "\n",
    "Con el código creado, ejecuta el notebook para obtener el resultado. Deberías recibir lo siguiente:\n",
    "\n",
    "628949330\n",
    "390577534"
   ]
  },
  {
   "cell_type": "code",
   "execution_count": 4,
   "metadata": {},
   "outputs": [
    {
     "name": "stdout",
     "output_type": "stream",
     "text": [
      "628949330\n",
      "390577534\n"
     ]
    }
   ],
   "source": [
    "plnt_t = 149597870\n",
    "plnt_j = 778547200\n",
    "resta=plnt_j - plnt_t\n",
    "print(resta)\n",
    "producto=resta*0.621\n",
    "print(round(producto))"
   ]
  },
  {
   "cell_type": "markdown",
   "metadata": {},
   "source": [
    "\n",
    "## Ejercicio 2: convierte cadenas en números y usa valores absolutos\n",
    "Crear una aplicación para trabajar con números y entrada de usuario\n",
    "\n",
    "Con frecuencia, deberás convertir los valores de cadena en números para realizar correctamente diferentes operaciones o determinar el valor absoluto de un número.\n",
    "\n",
    "Para crear nuestra aplicación, queremos leer la distancia del sol para dos planetas, y luego mostrar la distancia entre los planetas. Haremos esto usando input para leer los valores, int para convertir a entero y luego abs para convertir el resultado en su valor absoluto.\n",
    "Lee los valores\n",
    "\n",
    "Usando input, agrega el código para leer la distancia del sol para cada planeta, considerando 2 planetas.\n",
    "\n",
    "* Almacenar las entradas del usuario\n",
    "* Pista: variable = input(\"¿Cuál es tu nombre?\")\n",
    "\n",
    "Convertir a número\n",
    "\n",
    "Debido a que input devuelve valores de cadena, necesitamos convertirlos en números. Para nuestro ejemplo, usaremos int\n",
    "\n",
    "* Convierte las cadenas de ambos planetas a números enteros\n",
    "\n",
    "Realizar el cálculo y convertir a valor absoluto\n",
    "\n",
    "Con los valores almacenados como números, ahora puedes agregar el código para realizar el cálculo, restando el primer planeta del segundo. Debido a que el segundo planeta podría ser un número mayor, usarás abs para convertirlo a un valor absoluto. También agregarás el código para mostrar el resultado en millas multiplicando la distancia del kilómetro por 0.621\n",
    "\n",
    "* Realizar el cálculo y determinar el valor absoluto\n",
    "\n",
    "\n",
    "* Convertir de KM a Millas\n",
    "\n",
    "Prueba tu aplicación\n",
    "\n",
    "Para probar el proyecto, ejecuta tu notebook. En la parte superior de vscode surgirá un cuadro de diálogo para que proporciones las distancias. Puede utilizar los datos de la tabla siguiente:\n",
    "Planeta \tDistancia al sol\n",
    "Mercurio \t57900000\n",
    "Venus     \t108200000\n",
    "Tierra \t    149600000\n",
    "Marte \t    227900000\n",
    "Júpiter \t778600000\n",
    "Saturno \t1433500000\n",
    "Urano \t    2872500000\n",
    "Neptuno \t4495100000"
   ]
  },
  {
   "cell_type": "code",
   "execution_count": 6,
   "metadata": {},
   "outputs": [
    {
     "name": "stdout",
     "output_type": "stream",
     "text": [
      "12093\n",
      "1234\n"
     ]
    }
   ],
   "source": [
    "planeta1 = input('Introduzca la distancia del primer planeta:')\n",
    "planeta2 = input('Introduzca la distancia del segundo planeta:')\n",
    "\n",
    "print(planeta1)\n",
    "print(planeta2)"
   ]
  },
  {
   "cell_type": "code",
   "execution_count": 11,
   "metadata": {},
   "outputs": [
    {
     "name": "stdout",
     "output_type": "stream",
     "text": [
      "1000\n",
      "200\n",
      "800\n",
      "496.8\n"
     ]
    }
   ],
   "source": [
    "planeta1 = input('Introduzca la distancia del primer planeta:')\n",
    "planeta2 = input('Introduzca la distancia del segundo planeta:')\n",
    "\n",
    "print(planeta1)\n",
    "print(planeta2)\n",
    "\n",
    "\n",
    "planeta1 = int(planeta1)\n",
    "planeta2 = int(planeta2)\n",
    "\n",
    "resta=planeta1 - planeta2\n",
    "print(resta)\n",
    "producto=resta*0.621\n",
    "print(abs(producto))"
   ]
  }
 ],
 "metadata": {
  "interpreter": {
   "hash": "92ddabaea5435af622e059576d60d428c516400970c5921a41a6b3e03fc1cb5e"
  },
  "kernelspec": {
   "display_name": "Python 3.9.10 64-bit",
   "language": "python",
   "name": "python3"
  },
  "language_info": {
   "codemirror_mode": {
    "name": "ipython",
    "version": 3
   },
   "file_extension": ".py",
   "mimetype": "text/x-python",
   "name": "python",
   "nbconvert_exporter": "python",
   "pygments_lexer": "ipython3",
   "version": "3.9.10"
  },
  "orig_nbformat": 4
 },
 "nbformat": 4,
 "nbformat_minor": 2
}
